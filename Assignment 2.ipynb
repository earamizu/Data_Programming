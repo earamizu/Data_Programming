{
 "cells": [
  {
   "cell_type": "code",
   "execution_count": 1,
   "metadata": {},
   "outputs": [
    {
     "name": "stdout",
     "output_type": "stream",
     "text": [
      "Please enter your name: \n",
      "Eduardo\n",
      "Welcome Eduardo\n"
     ]
    }
   ],
   "source": [
    "#Chapter 2 - Exercise 2\n",
    "print(\"Please enter your name: \")\n",
    "userName = input()\n",
    "\n",
    "print(\"Welcome \" + userName)"
   ]
  },
  {
   "cell_type": "code",
   "execution_count": 1,
   "metadata": {},
   "outputs": [
    {
     "name": "stdout",
     "output_type": "stream",
     "text": [
      "Enter hours: \n",
      "20\n",
      "Enter rate: \n",
      "2.3555\n",
      "Pay:  47.11\n"
     ]
    }
   ],
   "source": [
    "#Chapter 2 - Exercise 3\n",
    "print(\"Enter hours: \")\n",
    "hours = float(input())\n",
    "\n",
    "print(\"Enter rate: \")\n",
    "rate = float(input())\n",
    "\n",
    "print(\"Pay: \", round(hours*rate, 2))"
   ]
  },
  {
   "cell_type": "code",
   "execution_count": 4,
   "metadata": {},
   "outputs": [
    {
     "name": "stdout",
     "output_type": "stream",
     "text": [
      "width//2 =  8 \tType =  <class 'int'>\n",
      "width/2.0 =  8.5 \tType =  <class 'float'>\n",
      "height/3 =  4.0 \tType =  <class 'float'>\n",
      "1 + 2 * 5 =  11 \tType =  <class 'int'>\n"
     ]
    }
   ],
   "source": [
    "#Chapter 2 - Exercise 4\n",
    "width = 17\n",
    "height = 12.0\n",
    "\n",
    "print(\"width//2 = \", width//2, \"\\tType = \", type(width//2))\n",
    "print(\"width/2.0 = \", width/2.0, \"\\tType = \", type(width/2.0))\n",
    "print(\"height/3 = \", height/3, \"\\tType = \", type(height/3))\n",
    "print(\"1 + 2 * 5 = \", 1 + 2 * 5, \"\\tType = \", type(1 + 2 * 5))"
   ]
  },
  {
   "cell_type": "code",
   "execution_count": 7,
   "metadata": {},
   "outputs": [
    {
     "name": "stdout",
     "output_type": "stream",
     "text": [
      "Enter a temperature in Celsius: \n",
      "25\n",
      "Temperature in fahrenheit is  77.0 F\n"
     ]
    }
   ],
   "source": [
    "#Chapter 2 - Exercise 5\n",
    "print(\"Enter a temperature in Celsius: \")\n",
    "inCelsius = float(input())\n",
    "\n",
    "outFahrenheit = (inCelsius*(9/5)) + 32\n",
    "\n",
    "print(\"Temperature in fahrenheit is \", outFahrenheit, \"F\")"
   ]
  },
  {
   "cell_type": "code",
   "execution_count": 10,
   "metadata": {},
   "outputs": [
    {
     "name": "stdout",
     "output_type": "stream",
     "text": [
      "Enter hours: \n",
      "45\n",
      "Enter rate: \n",
      "10\n",
      "Pay:  475.0\n"
     ]
    }
   ],
   "source": [
    "#Chapter 3 - Exercise 1\n",
    "print(\"Enter hours: \")\n",
    "inHours = float(input())\n",
    "\n",
    "print(\"Enter rate: \")\n",
    "inRate = float(input())\n",
    "\n",
    "if(inHours <= 40):\n",
    "    print(\"Pay: \", inHours * inRate)\n",
    "else:\n",
    "    overHours = inHours - 40\n",
    "    overRate = inRate * 1.5\n",
    "    print(\"Pay: \", (40*inRate) + (overHours*overRate))"
   ]
  },
  {
   "cell_type": "code",
   "execution_count": 4,
   "metadata": {},
   "outputs": [
    {
     "name": "stdout",
     "output_type": "stream",
     "text": [
      "Enter hours: \n",
      "45\n",
      "Enter rate: \n",
      "10\n",
      "Pay:  475.0\n"
     ]
    }
   ],
   "source": [
    "#Chapter 3 - Exercise 2\n",
    "try:\n",
    "    print(\"Enter hours: \")\n",
    "    inHours = float(input())\n",
    "    \n",
    "    print(\"Enter rate: \")\n",
    "    inRate = float(input())\n",
    "    \n",
    "    if(inHours <= 40):\n",
    "        print(\"Pay: \", inHours * inRate)\n",
    "    else:\n",
    "        overHours = inHours - 40\n",
    "        overRate = inRate * 1.5\n",
    "        print(\"Pay: \", (40*inRate) + (overHours*overRate))\n",
    "    \n",
    "except:\n",
    "    print(\"Error, please enter numeric input\")"
   ]
  },
  {
   "cell_type": "code",
   "execution_count": 38,
   "metadata": {},
   "outputs": [
    {
     "name": "stdout",
     "output_type": "stream",
     "text": [
      "Enter score: 0.95\n",
      "Bad score\n"
     ]
    }
   ],
   "source": [
    "#Chapter 3 - Exercise 3\n",
    "try:\n",
    "    score = float(input(\"Enter score: \"))\n",
    "    if score >= 0.9 and score <= 1.0:\n",
    "        print(\"A\")\n",
    "    elif score >= 0.8 and score < 0.9:\n",
    "        print(\"B\")\n",
    "    elif score >= 0.7 and score < 0.8:\n",
    "        print(\"C\")\n",
    "    elif score >= 0.6 and score < 0.7:\n",
    "        print(\"D\")\n",
    "    elif score < 0.6 and score >= 0:\n",
    "        print(\"F\")\n",
    "    else:\n",
    "        print(\"Bad score\")\n",
    "except:\n",
    "    print(\"Bad score\")"
   ]
  },
  {
   "cell_type": "code",
   "execution_count": 19,
   "metadata": {},
   "outputs": [
    {
     "name": "stdout",
     "output_type": "stream",
     "text": [
      "ABC\n",
      "Zap\n",
      "ABC\n"
     ]
    }
   ],
   "source": [
    "#Chapter 4 - Exercise 5\n",
    "def fred():\n",
    "    print(\"Zap\")\n",
    "\n",
    "def jane():\n",
    "    print(\"ABC\")\n",
    "    \n",
    "jane()\n",
    "fred()\n",
    "jane()"
   ]
  },
  {
   "cell_type": "code",
   "execution_count": 2,
   "metadata": {},
   "outputs": [
    {
     "name": "stdout",
     "output_type": "stream",
     "text": [
      "Enter hours: 45\n",
      "Enter rate: 10\n",
      "Pay:  475.0\n"
     ]
    }
   ],
   "source": [
    "#Chapter 4 - Exercise 6\n",
    "def computepay(hour, rate):\n",
    "    if(hour <= 40):\n",
    "        return hour*rate\n",
    "    else:\n",
    "        return (40*rate) + ((hour - 40)*(rate*1.5))\n",
    "\n",
    "try:\n",
    "    hours = float(input(\"Enter hours: \"))\n",
    "    rate = float(input(\"Enter rate: \"))\n",
    "    \n",
    "    print(\"Pay: \", computepay(hours, rate))\n",
    "except:\n",
    "    print(\"Enter numeric input.\")"
   ]
  },
  {
   "cell_type": "code",
   "execution_count": 3,
   "metadata": {},
   "outputs": [
    {
     "name": "stdout",
     "output_type": "stream",
     "text": [
      "Enter score: 0.95\n",
      "A\n"
     ]
    }
   ],
   "source": [
    "#Chapter 4 - Exercise 7\n",
    "def computegrade(score):\n",
    "    if score >= 0.9 and score <= 1.0:\n",
    "        return \"A\"\n",
    "    elif score >= 0.8 and score < 0.9:\n",
    "        return \"B\"\n",
    "    elif score >= 0.7 and score < 0.8:\n",
    "        return \"C\"\n",
    "    elif score >= 0.6 and score < 0.7:\n",
    "        return \"D\"\n",
    "    elif score < 0.6 and score >= 0.0:\n",
    "        return \"F\"\n",
    "    else:\n",
    "        return \"Bad score\"\n",
    "    \n",
    "try:\n",
    "    score = float(input(\"Enter score: \"))\n",
    "    print(computegrade(score))\n",
    "except:\n",
    "    print(\"Bad score\")"
   ]
  },
  {
   "cell_type": "code",
   "execution_count": null,
   "metadata": {},
   "outputs": [],
   "source": []
  }
 ],
 "metadata": {
  "kernelspec": {
   "display_name": "Python 3",
   "language": "python",
   "name": "python3"
  },
  "language_info": {
   "codemirror_mode": {
    "name": "ipython",
    "version": 3
   },
   "file_extension": ".py",
   "mimetype": "text/x-python",
   "name": "python",
   "nbconvert_exporter": "python",
   "pygments_lexer": "ipython3",
   "version": "3.7.3"
  }
 },
 "nbformat": 4,
 "nbformat_minor": 2
}
