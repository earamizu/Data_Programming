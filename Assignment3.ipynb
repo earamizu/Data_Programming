{
 "cells": [
  {
   "cell_type": "code",
   "execution_count": 2,
   "metadata": {},
   "outputs": [
    {
     "name": "stdout",
     "output_type": "stream",
     "text": [
      "Enter a number: 1\n",
      "Enter a number: 2\n",
      "Enter a number: 3\n",
      "Enter a number: a\n",
      "Invalid input\n",
      "Enter a number: 4\n",
      "Enter a number: b\n",
      "Invalid input\n",
      "Enter a number: c\n",
      "Invalid input\n",
      "Enter a number: done\n",
      "Total:  10.0  Count:  4  Average:  2.5\n"
     ]
    }
   ],
   "source": [
    "#Chapter 5 - Exercise 1\n",
    "\n",
    "total = 0\n",
    "count = 0\n",
    "average = 0\n",
    "\n",
    "while True:\n",
    "    value = input(\"Enter a number: \")\n",
    "\n",
    "    if value == 'done':\n",
    "        if count > 0:\n",
    "            average = total/count\n",
    "        print('Total: ', total, ' Count: ', count, ' Average: ', average)\n",
    "        break;\n",
    "    else:\n",
    "        try:\n",
    "            total = total + float(value)\n",
    "            count += 1\n",
    "        except:\n",
    "            print('Invalid input')\n",
    "            continue"
   ]
  },
  {
   "cell_type": "code",
   "execution_count": 3,
   "metadata": {},
   "outputs": [
    {
     "name": "stdout",
     "output_type": "stream",
     "text": [
      "Enter a number: 1\n",
      "Enter a number: a\n",
      "Invalid input\n",
      "Enter a number: 8\n",
      "Enter a number: 3\n",
      "Enter a number: 9\n",
      "Enter a number: 1.5\n",
      "Enter a number: 9.5\n",
      "Enter a number: done\n",
      "Max:  9.5  Min:  1.0\n"
     ]
    }
   ],
   "source": [
    "#Chapter 5 - Exercise 2\n",
    "listValues = []\n",
    "\n",
    "while True:\n",
    "    value = input('Enter a number: ')\n",
    "\n",
    "    if value == 'done':\n",
    "        print('Max: ', max(listValues), ' Min: ', min(listValues))\n",
    "        break;\n",
    "    else:\n",
    "        try:\n",
    "            listValues.append(float(value))\n",
    "        except:\n",
    "            print('Invalid input')\n",
    "            continue"
   ]
  },
  {
   "cell_type": "code",
   "execution_count": 19,
   "metadata": {},
   "outputs": [
    {
     "name": "stdout",
     "output_type": "stream",
     "text": [
      "0.8475\n"
     ]
    }
   ],
   "source": [
    "#Chapter 6 - Exercise 5\n",
    "str = 'X-DSPAM-Confidence:0.8475'\n",
    "number = float(str[str.find(':')+1:])\n",
    "print(number)"
   ]
  },
  {
   "cell_type": "code",
   "execution_count": 3,
   "metadata": {},
   "outputs": [
    {
     "name": "stdout",
     "output_type": "stream",
     "text": [
      "Enter file name: mbox-short.txt\n",
      "Average spam confidence: 0.750719\n"
     ]
    }
   ],
   "source": [
    "#Chapter 7 - Exercise 2\n",
    "fname = input('Enter file name: ')\n",
    "\n",
    "try:\n",
    "    fhandle = open(fname)\n",
    "except:\n",
    "    print('File cannot be opened: ', fname)\n",
    "    exit()\n",
    "confidence = []\n",
    "for line in fhandle:\n",
    "    line = line.rstrip()\n",
    "    if not line.startswith('X-DSPAM-Confidence:'): continue\n",
    "    confidence.append(float(line[line.find(':')+1:]))\n",
    "print('Average spam confidence: %g' %(sum(confidence)/len(confidence)))"
   ]
  },
  {
   "cell_type": "code",
   "execution_count": 12,
   "metadata": {},
   "outputs": [
    {
     "name": "stdout",
     "output_type": "stream",
     "text": [
      "Enter file name: romeo.txt\n",
      "Words encountered in file:  ['Arise', 'But', 'It', 'Juliet', 'Who', 'already', 'and', 'breaks', 'east', 'envious', 'fair', 'grief', 'is', 'kill', 'light', 'moon', 'pale', 'sick', 'soft', 'sun', 'the', 'through', 'what', 'window', 'with', 'yonder']\n"
     ]
    }
   ],
   "source": [
    "#Chapter 8 - Exercise 4\n",
    "import string\n",
    "fname = input('Enter file name: ')\n",
    "\n",
    "try:\n",
    "    fhandle = open(fname)\n",
    "except:\n",
    "    print('File cannot be opened: ', fname)\n",
    "    exit()\n",
    "wordsText = []\n",
    "for line in fhandle:\n",
    "    line = line.translate(line.maketrans('', '', string.punctuation)).rstrip()\n",
    "    words = line.split()\n",
    "    for word in words:\n",
    "        if word in wordsText: continue\n",
    "        wordsText.append(word)\n",
    "wordsText.sort()\n",
    "print('Words encountered in file: ', wordsText)"
   ]
  },
  {
   "cell_type": "code",
   "execution_count": 21,
   "metadata": {},
   "outputs": [
    {
     "name": "stdout",
     "output_type": "stream",
     "text": [
      "Enter file name: mbox-short.txt\n",
      "stephen.marquard@uct.ac.za\n",
      "louis@media.berkeley.edu\n",
      "zqian@umich.edu\n",
      "rjlowe@iupui.edu\n",
      "zqian@umich.edu\n",
      "rjlowe@iupui.edu\n",
      "cwen@iupui.edu\n",
      "cwen@iupui.edu\n",
      "gsilver@umich.edu\n",
      "gsilver@umich.edu\n",
      "zqian@umich.edu\n",
      "gsilver@umich.edu\n",
      "wagnermr@iupui.edu\n",
      "zqian@umich.edu\n",
      "antranig@caret.cam.ac.uk\n",
      "gopal.ramasammycook@gmail.com\n",
      "david.horwitz@uct.ac.za\n",
      "david.horwitz@uct.ac.za\n",
      "david.horwitz@uct.ac.za\n",
      "david.horwitz@uct.ac.za\n",
      "stephen.marquard@uct.ac.za\n",
      "louis@media.berkeley.edu\n",
      "louis@media.berkeley.edu\n",
      "ray@media.berkeley.edu\n",
      "cwen@iupui.edu\n",
      "cwen@iupui.edu\n",
      "cwen@iupui.edu \n",
      "\n",
      "There were 27 lines with 'From ' as the first word.\n"
     ]
    }
   ],
   "source": [
    "#Chapter 8 - Exercise 5\n",
    "fname = input('Enter file name: ')\n",
    "\n",
    "try:\n",
    "    fhandle = open(fname)\n",
    "except:\n",
    "    print('File cannot be opened')\n",
    "    exit()\n",
    "names = []\n",
    "for line in fhandle:\n",
    "    line = line.rstrip()\n",
    "    if not line.startswith('From '): continue\n",
    "    words = line.split()\n",
    "    if len(words) == 0: continue\n",
    "    names.append(words[1])\n",
    "    \n",
    "count = 0\n",
    "fhandle = open(fname)\n",
    "for line in fhandle:\n",
    "    line = line.rstrip()\n",
    "    if not line.startswith('From '): continue\n",
    "    count += 1\n",
    "\n",
    "print('\\n'.join(names), f'\\n\\nThere were {count} lines with \\'From \\' as the first word.')"
   ]
  },
  {
   "cell_type": "code",
   "execution_count": 25,
   "metadata": {},
   "outputs": [
    {
     "name": "stdout",
     "output_type": "stream",
     "text": [
      "Enter file name: mbox-short.txt\n",
      "User with most messages in the file: cwen@iupui.edu 5\n"
     ]
    }
   ],
   "source": [
    "#Chapter 9 - Exercise 4\n",
    "fname = input('Enter file name: ')\n",
    "\n",
    "try:\n",
    "    fhandle = open(fname)\n",
    "except:\n",
    "    print('File cannot be opened')\n",
    "    exit()\n",
    "    \n",
    "users = {}\n",
    "for line in fhandle:\n",
    "    if not line.startswith('From '): continue\n",
    "    line = line.rstrip()\n",
    "    words = line.split()\n",
    "    if len(words) == 0: continue\n",
    "    users[words[1]] = users.get(words[1], 0) + 1\n",
    "\n",
    "keyMax = ''\n",
    "maxValue = 0\n",
    "for varKey in users:\n",
    "    if keyMax != '' and users[varKey] < maxValue: continue\n",
    "    maxValue = users[varKey]\n",
    "    keyMax = varKey\n",
    "print(f'User with most messages in the file: {keyMax} {users[keyMax]}')"
   ]
  },
  {
   "cell_type": "code",
   "execution_count": 7,
   "metadata": {},
   "outputs": [
    {
     "name": "stdout",
     "output_type": "stream",
     "text": [
      "Enter file name: mbox-short.txt\n",
      "{'uct.ac.za': 6, 'media.berkeley.edu': 4, 'umich.edu': 7, 'iupui.edu': 8, 'caret.cam.ac.uk': 1, 'gmail.com': 1}\n"
     ]
    }
   ],
   "source": [
    "#Chapter 9 - Exercise 5\n",
    "fname = input('Enter file name: ')\n",
    "try:\n",
    "    fhandle = open(fname)\n",
    "except:\n",
    "    print('File cannot be opened: ', fname)\n",
    "    exit()\n",
    "    \n",
    "addresses = {}\n",
    "for line in fhandle:\n",
    "    if not line.startswith('From '): continue\n",
    "    line = line.rstrip()\n",
    "    words = line.split()\n",
    "    if len(words) == 0: continue\n",
    "    varAddress = words[1][words[1].find('@')+1:]  #.split('@')[1]\n",
    "    addresses[varAddress] = addresses.get(varAddress, 0) + 1\n",
    "print(addresses)"
   ]
  },
  {
   "cell_type": "code",
   "execution_count": 12,
   "metadata": {},
   "outputs": [
    {
     "name": "stdout",
     "output_type": "stream",
     "text": [
      "Enter file name: mbox-short.txt\n",
      "04 3\n",
      "06 1\n",
      "07 1\n",
      "09 2\n",
      "10 3\n",
      "11 6\n",
      "14 1\n",
      "15 2\n",
      "16 4\n",
      "17 2\n",
      "18 1\n",
      "19 1\n"
     ]
    }
   ],
   "source": [
    "#Chapter 10 - Exercise 2\n",
    "import re\n",
    "\n",
    "fname = input('Enter file name: ')\n",
    "try:\n",
    "    fhandle = open(fname)\n",
    "except:\n",
    "    print('File cannot be opened')\n",
    "    exit()\n",
    "    \n",
    "hours = {}\n",
    "exp = re.compile('\\d{2}:\\d{2}:\\d{2}')\n",
    "for line in fhandle:\n",
    "    if not line.startswith('From '): continue\n",
    "    line = line.rstrip()\n",
    "    search = exp.search(line)\n",
    "    hour = search.group()[:2]\n",
    "    hours[hour] = hours.get(hour, 0) + 1\n",
    "\n",
    "listS = []\n",
    "for keyHours in hours:\n",
    "    listS.append(keyHours)\n",
    "listS.sort()\n",
    "\n",
    "for keyHour in listS:\n",
    "    print(keyHour, hours[keyHour])"
   ]
  },
  {
   "cell_type": "code",
   "execution_count": 18,
   "metadata": {},
   "outputs": [
    {
     "name": "stdout",
     "output_type": "stream",
     "text": [
      "Enter file name: sample_input.txt\n",
      "\n",
      "\n",
      "e 11.16%\n",
      "t 9.20%\n",
      "a 9.05%\n",
      "o 8.45%\n",
      "n 7.84%\n",
      "i 6.56%\n",
      "s 6.26%\n",
      "r 6.26%\n",
      "h 5.28%\n",
      "l 3.39%\n",
      "u 2.94%\n",
      "c 2.79%\n",
      "d 2.64%\n",
      "g 2.56%\n",
      "b 2.26%\n",
      "w 2.11%\n",
      "f 2.04%\n",
      "m 1.89%\n",
      "p 1.81%\n",
      "y 1.73%\n",
      "v 1.66%\n",
      "k 1.28%\n",
      "z 0.30%\n",
      "j 0.30%\n",
      "q 0.23%\n"
     ]
    }
   ],
   "source": [
    "#Chapter 10 - Exercise 3\n",
    "#Sample text: https://www.cbc.ca/news/canada/british-columbia/jurassic-west-vancouver-1.5151890\n",
    "import string\n",
    "fname = input('Enter file name: ')\n",
    "try:\n",
    "    fhandle = open(fname)\n",
    "except:\n",
    "    print('File cannot be opened')\n",
    "    exit()\n",
    "    \n",
    "letters = {}\n",
    "for line in fhandle:\n",
    "    if line == '\\n': continue\n",
    "    line = line.rstrip()\n",
    "    line = line.translate({ord(i): None for i in '0123456789 —' + string.punctuation})   #remove punctuation, numbers, spaces and -\n",
    "    line = line.lower()\n",
    "    for letter in line:\n",
    "        letters[letter] = letters.get(letter, 0) + 1\n",
    "listLetters = []\n",
    "for letter in letters:\n",
    "    listLetters.append(letter)\n",
    "listLetters.sort()\n",
    "\n",
    "# for l in listLetters:\n",
    "#     print(f'{l} {letters[l]}')\n",
    "# print('\\n\\n')\n",
    "#Sum total of letters in text, in order to calculate frequency of each letter\n",
    "totalLetters = 0\n",
    "for value in letters.values():\n",
    "    totalLetters += value\n",
    "\n",
    "#List with frequecies of letters\n",
    "freqList = {}\n",
    "for letter in listLetters:\n",
    "    freqList[letter] = (letters[letter]/totalLetters)*100\n",
    "\n",
    "# for l in freqList:\n",
    "#     print(f'{l} {freqList[l]:.2f}%')\n",
    "    \n",
    "sortedList = []\n",
    "for key, value in freqList.items():\n",
    "    sortedList.append((value, key))\n",
    "sortedList.sort(reverse = True)\n",
    "\n",
    "print('\\n')\n",
    "for value, key in sortedList:\n",
    "    print(f'{key} {value:.2f}%')"
   ]
  },
  {
   "cell_type": "code",
   "execution_count": null,
   "metadata": {},
   "outputs": [],
   "source": []
  }
 ],
 "metadata": {
  "kernelspec": {
   "display_name": "Python 3",
   "language": "python",
   "name": "python3"
  },
  "language_info": {
   "codemirror_mode": {
    "name": "ipython",
    "version": 3
   },
   "file_extension": ".py",
   "mimetype": "text/x-python",
   "name": "python",
   "nbconvert_exporter": "python",
   "pygments_lexer": "ipython3",
   "version": "3.7.3"
  }
 },
 "nbformat": 4,
 "nbformat_minor": 2
}
